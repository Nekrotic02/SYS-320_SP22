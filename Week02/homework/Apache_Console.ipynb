{
 "cells": [
  {
   "cell_type": "code",
   "execution_count": 63,
   "metadata": {},
   "outputs": [
    {
     "data": {
      "text/plain": [
       "<module 'searchLog' from 'd:\\\\Champlain Work\\\\Second Semester\\\\SYS-320 Automation and Scripting\\\\SYS-320_SP22\\\\Week02\\\\homework\\\\searchLog.py'>"
      ]
     },
     "execution_count": 63,
     "metadata": {},
     "output_type": "execute_result"
    }
   ],
   "source": [
    "import importlib\n",
    "import searchLog\n",
    "import logCheck\n",
    "importlib.reload(logCheck)\n",
    "importlib.reload(searchLog)"
   ]
  },
  {
   "cell_type": "markdown",
   "metadata": {},
   "source": [
    "## Proxy Log Search"
   ]
  },
  {
   "cell_type": "code",
   "execution_count": 64,
   "metadata": {},
   "outputs": [
    {
     "name": "stdout",
     "output_type": "stream",
     "text": [
      "QQ.exe tcpconn3.tencent.com:443 149 bytes sent,\n",
      "QQProtectUpd.exe qdun-data.qq.com:443 261 bytes sent,\n",
      "QQ.exe tcpconn3.tencent.com:80 0 bytes sent,\n",
      "QQ.exe tcpconn6.tencent.com:80 0 bytes sent,\n",
      "QQ.exe showxml.qq.com:80 600 bytes sent,\n",
      "QQ.exe tcpconn.tencent.com:80 133 bytes sent,\n",
      "QQ.exe tcpconn6.tencent.com:443 0 bytes sent,\n",
      "QQ.exe qqmail.tencent.com:80 336 bytes sent,\n",
      "QQ.exe cgi.qqweb.qq.com:80 477 bytes sent,\n",
      "QQ.exe 2052.flash2-http.qq.com:80 466 bytes sent,\n"
     ]
    }
   ],
   "source": [
    "data = searchLog.search_bytes(\"../../logs/Proxifier_2k.log\",\"web\",\"QQ\")"
   ]
  },
  {
   "cell_type": "code",
   "execution_count": 66,
   "metadata": {},
   "outputs": [
    {
     "name": "stdout",
     "output_type": "stream",
     "text": [
      "QQ.exe tcpconn3.tencent.com:443 open through proxy proxy.cse.cuhk.edu.hk:5070\n",
      "QQ.exe tcpconn.tencent.com:80 open through proxy proxy.cse.cuhk.edu.hk:5070\n",
      "QQ.exe tcpconn6.tencent.com:443 open through proxy proxy.cse.cuhk.edu.hk:5070\n",
      "QQProtectUpd.exe qdun-data.qq.com:443 open through proxy proxy.cse.cuhk.edu.hk:5070\n",
      "QQ.exe tcpconn6.tencent.com:80 open through proxy proxy.cse.cuhk.edu.hk:5070\n",
      "QQPlayer.exe btrace.qq.com:80 open through proxy proxy.cse.cuhk.edu.hk:5070\n",
      "QQ.exe 183.60.49.182:443 open through proxy proxy.cse.cuhk.edu.hk:5070\n",
      "QQ.exe cgi.qqweb.qq.com:80 open through proxy proxy.cse.cuhk.edu.hk:5070\n"
     ]
    }
   ],
   "source": [
    "data = searchLog.search_proxy(\"../../logs/Proxifier_2k.log\",\"proxy\",\"QQ\")"
   ]
  },
  {
   "cell_type": "code",
   "execution_count": 67,
   "metadata": {},
   "outputs": [],
   "source": [
    "logCheck.yaml_write(\"Proxy/Apache Log Events\",data)"
   ]
  }
 ],
 "metadata": {
  "interpreter": {
   "hash": "669f5abd92f1a410df15b0643b9f42360e277a412fc08ae8bc7d7911cf7e8f3d"
  },
  "kernelspec": {
   "display_name": "Python 3.10.2 64-bit",
   "language": "python",
   "name": "python3"
  },
  "language_info": {
   "codemirror_mode": {
    "name": "ipython",
    "version": 3
   },
   "file_extension": ".py",
   "mimetype": "text/x-python",
   "name": "python",
   "nbconvert_exporter": "python",
   "pygments_lexer": "ipython3",
   "version": "3.10.2"
  },
  "orig_nbformat": 4
 },
 "nbformat": 4,
 "nbformat_minor": 2
}
