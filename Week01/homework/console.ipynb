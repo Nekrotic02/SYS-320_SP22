{
 "cells": [
  {
   "cell_type": "code",
   "execution_count": 1,
   "metadata": {},
   "outputs": [
    {
     "data": {
      "text/plain": [
       "<module 'sshUsers' from 'd:\\\\Champlain Work\\\\Second Semester\\\\SYS-320 Automation and Scripting\\\\SYS-320_SP22\\\\Week01\\\\homework\\\\sshUsers.py'>"
      ]
     },
     "execution_count": 1,
     "metadata": {},
     "output_type": "execute_result"
    }
   ],
   "source": [
    "# imports \n",
    "import importlib\n",
    "import userIP\n",
    "import sshUsers\n",
    "importlib.reload(userIP)\n",
    "importlib.reload(sshUsers)"
   ]
  },
  {
   "cell_type": "markdown",
   "metadata": {},
   "source": [
    "# Additional Log analysis tools"
   ]
  },
  {
   "cell_type": "markdown",
   "metadata": {},
   "source": [
    "## IP search for klogind "
   ]
  },
  {
   "cell_type": "code",
   "execution_count": 2,
   "metadata": {},
   "outputs": [
    {
     "name": "stdout",
     "output_type": "stream",
     "text": [
      "163.27.187.39\n"
     ]
    }
   ],
   "source": [
    "userIP.ipcheck(\"../../logs/Linux_2k.log\",\"klogind\")"
   ]
  },
  {
   "cell_type": "markdown",
   "metadata": {},
   "source": [
    "## SSH User Authentication"
   ]
  },
  {
   "cell_type": "code",
   "execution_count": 3,
   "metadata": {},
   "outputs": [
    {
     "name": "stdout",
     "output_type": "stream",
     "text": [
      "test\n"
     ]
    }
   ],
   "source": [
    "sshUsers.userCheck('../../logs/Linux_2k.log','sshd\\(pam_unix\\).*session opened for user.*')"
   ]
  },
  {
   "cell_type": "markdown",
   "metadata": {},
   "source": [
    "### Questions \n",
    "\n",
    "3. What is your interpretation of the users that authenticated to SSH based on the usernames?  The context is that you are a security analyst and checking your log files for anomalies.\n",
    "\n",
    "My interpretation of the logs are that someone was using an automated script to authenticate to SSH using the username \"test\" \n",
    "\n",
    "4. What did you like the most and least about the lab?\n",
    "\n",
    "The thing i enjoyed the most about this lab was creating functions to look for all itirations of a given string and being able to repurpose the code to different requirements with how modular it can be\n",
    "\n",
    "What i enjoyed the least was how strange python can be compared to other lower level languages such as C++ and Java, While it is amazing that python dynamically allocated array and variable types and sizes, its hard to know exactly what it is doing and trying to get functions and variables types to play well with each other \n",
    "\n",
    "for example while creating these functions the re.findall function failed as it was not happy with the backslashes or stars in the given string and threw the exception \"bad escape (end of pattern) at position 0\" despite working in the class folder functions. Having no idea what was truly going on i then have up and attempted to create my own functions from scratch (to no avail) but suddenly after 5 failed attempts and no changes to the re.findall function it just...worked...and i dont know why \n",
    "\n",
    "5. What additional questions do you have? \n",
    "\n",
    "Nope none from me "
   ]
  }
 ],
 "metadata": {
  "interpreter": {
   "hash": "669f5abd92f1a410df15b0643b9f42360e277a412fc08ae8bc7d7911cf7e8f3d"
  },
  "kernelspec": {
   "display_name": "Python 3.10.2 64-bit",
   "language": "python",
   "name": "python3"
  },
  "language_info": {
   "codemirror_mode": {
    "name": "ipython",
    "version": 3
   },
   "file_extension": ".py",
   "mimetype": "text/x-python",
   "name": "python",
   "nbconvert_exporter": "python",
   "pygments_lexer": "ipython3",
   "version": "3.10.2"
  },
  "orig_nbformat": 4
 },
 "nbformat": 4,
 "nbformat_minor": 2
}
