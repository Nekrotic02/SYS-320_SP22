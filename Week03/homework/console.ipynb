{
 "cells": [
  {
   "cell_type": "markdown",
   "metadata": {},
   "source": [
    "# URLHAUS"
   ]
  },
  {
   "cell_type": "code",
   "execution_count": 19,
   "metadata": {},
   "outputs": [
    {
     "data": {
      "text/plain": [
       "<module 'urlHaus' from 'd:\\\\Champlain Work\\\\Second Semester\\\\SYS-320 Automation and Scripting\\\\SYS-320_SP22\\\\Week03\\\\homework\\\\urlHaus.py'>"
      ]
     },
     "execution_count": 19,
     "metadata": {},
     "output_type": "execute_result"
    }
   ],
   "source": [
    "import urlHaus as u\n",
    "import importlib\n",
    "importlib.reload(u)\n"
   ]
  },
  {
   "cell_type": "code",
   "execution_count": 22,
   "metadata": {},
   "outputs": [
    {
     "name": "stdout",
     "output_type": "stream",
     "text": [
      "\n",
      "                URL:hxxp://103.171.0.134/Registry/.win32.exe\n",
      "                Info: None\n",
      "                ************************************************************\n",
      "\n",
      "                URL:hxxp://198.46.132.195/Registry/.win32.exe\n",
      "                Info: None\n",
      "                ************************************************************\n",
      "\n",
      "                URL:hxxp://103.89.90.10/Registry/.win32.exe\n",
      "                Info: None\n",
      "                ************************************************************\n",
      "\n",
      "                URL:hxxp://103.171.0.134/googleCRC/.win32.exe\n",
      "                Info: None\n",
      "                ************************************************************\n",
      "\n",
      "                URL:hxxp://198.46.132.195/googleCRC/.win32.exe\n",
      "                Info: None\n",
      "                ************************************************************\n",
      "\n",
      "                URL:hxxp://103.171.0.134/glcouldB2/.win32.exe\n",
      "                Info: None\n",
      "                ************************************************************\n",
      "\n",
      "                URL:hxxp://103.171.0.134/couldA9/.win32.exe\n",
      "                Info: None\n",
      "                ************************************************************\n",
      "\n",
      "                URL:hxxp://103.89.90.10/couldA9/.win32.exe\n",
      "                Info: None\n",
      "                ************************************************************\n",
      "\n",
      "                URL:hxxp://103.114.105.38/gcould/.win32.exe\n",
      "                Info: None\n",
      "                ************************************************************\n",
      "\n",
      "                URL:hxxp://103.89.90.10/winos11pro/.win32.exe\n",
      "                Info: None\n",
      "                ************************************************************\n",
      "\n",
      "                URL:hxxp://103.89.90.10/googlecould/.win32.exe\n",
      "                Info: None\n",
      "                ************************************************************\n",
      "\n",
      "                URL:hxxp://103.114.105.38/googlecould/.win32.exe\n",
      "                Info: None\n",
      "                ************************************************************\n",
      "\n",
      "                URL:hxxp://103.114.105.38/intel087(R)/.win32.exe\n",
      "                Info: 2022-01-25 01:XX:XX\n",
      "                ************************************************************\n",
      "\n",
      "                URL:hxxp://103.114.105.38/intel(R)/.win32.exe\n",
      "                Info: 2022-01-25 01:XX:XX\n",
      "                ************************************************************\n",
      "\n",
      "                URL:hxxp://103.89.90.10/intel(R)/.win32.exe\n",
      "                Info: None\n",
      "                ************************************************************\n",
      "\n",
      "                URL:hxxp://103.114.105.38/intelpro/.win32.exe\n",
      "                Info: 2022-01-25 01:XX:XX\n",
      "                ************************************************************\n",
      "\n",
      "                URL:hxxp://103.89.90.10/oswindows10pro/.win32.exe\n",
      "                Info: 2022-01-19 00:XX:XX\n",
      "                ************************************************************\n",
      "\n",
      "                URL:hxxp://103.114.105.38/oswindows10pro/.win32.exe\n",
      "                Info: 2022-01-25 00:XX:XX\n",
      "                ************************************************************\n",
      "\n",
      "                URL:hxxp://103.114.105.38/winos11pro/.win32.exe\n",
      "                Info: 2022-01-25 01:XX:XX\n",
      "                ************************************************************\n",
      "\n",
      "                URL:hxxp://103.114.105.38/wwindows8/.win32.exe\n",
      "                Info: 2022-01-25 01:XX:XX\n",
      "                ************************************************************\n",
      "\n",
      "                URL:hxxp://103.114.105.38/windows10/.win32.exe\n",
      "                Info: 2022-01-25 01:XX:XX\n",
      "                ************************************************************\n",
      "\n",
      "                URL:hxxp://103.114.105.38/savecloud2091/.win32.exe\n",
      "                Info: 2022-01-25 01:XX:XX\n",
      "                ************************************************************\n"
     ]
    }
   ],
   "source": [
    "u.urlHausOpen('urlHaus.csv', '.*\\.win32')"
   ]
  },
  {
   "cell_type": "markdown",
   "metadata": {},
   "source": [
    "## PART 2 "
   ]
  },
  {
   "cell_type": "markdown",
   "metadata": {},
   "source": [
    "#### 1: Provide the URL to CSV Documentation on the Python Website. ensure you select the site with the appropriate version of python you are using \n",
    "\n",
    "#### https://docs.python.org/3/library/csv.html"
   ]
  },
  {
   "cell_type": "markdown",
   "metadata": {},
   "source": [
    "#### 2: What option is used if the default delimiter is not a comma? Write the full syntax. example csv.function(option=x, option2=y)\n",
    "\n",
    "#### csv.reader(file,delimiter=',') \n"
   ]
  },
  {
   "cell_type": "markdown",
   "metadata": {},
   "source": [
    "#### 3: In a CSV file that uses a comma as a delimiter, there may be a field with a comma within it. What option does python provide to escape a comma within the text of a field so it is differentiated within the comma as a field delimiter? write the full syntax. Example csv.functon(option=x, option2=y)\n",
    "\n",
    "#### csv.reader(file, skipinitialspace=True)"
   ]
  },
  {
   "cell_type": "markdown",
   "metadata": {},
   "source": [
    "#### 4: What is the purpose of heredocs in python? \n",
    "\n",
    "#### A here doc is a way to define a multiline string, while maintaining the original indentation and formatting. this is useful when parsing files using automated scripts and tools as it makes it easier to identify what information to extract consistently throughout the file "
   ]
  },
  {
   "cell_type": "markdown",
   "metadata": {},
   "source": [
    "#### What did you like the most and least about this assignment \n",
    "\n",
    "#### I enjoyed learning about the CSV library that can be used to parse information in from a specific file format to be used in automated file searching \n",
    "\n",
    "#### the thing i enjoyed the least was just looking for the small mistakes like double == which confused me however i have some cheek to complain about python syntax errors when back home we need to build C++ programs from scratch using multi-threaded programming, OOP and a compiler with very very obscure error messages for a low level language like C "
   ]
  }
 ],
 "metadata": {
  "interpreter": {
   "hash": "e849244212d109cc3cb88a1154d46bb16288231cb9cc2770bd078951feabfff8"
  },
  "kernelspec": {
   "display_name": "Python 3.9.6 64-bit",
   "language": "python",
   "name": "python3"
  },
  "language_info": {
   "codemirror_mode": {
    "name": "ipython",
    "version": 3
   },
   "file_extension": ".py",
   "mimetype": "text/x-python",
   "name": "python",
   "nbconvert_exporter": "python",
   "pygments_lexer": "ipython3",
   "version": "3.10.2"
  },
  "orig_nbformat": 4
 },
 "nbformat": 4,
 "nbformat_minor": 2
}
