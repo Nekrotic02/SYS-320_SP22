{
 "cells": [
  {
   "cell_type": "markdown",
   "metadata": {},
   "source": [
    "### Questions"
   ]
  },
  {
   "cell_type": "markdown",
   "metadata": {},
   "source": [
    "#### Task 1: The questions are to help guide you to the goal of this task. Write out each response \n",
    "\n",
    "##### What Python module **contains** the function to see if a file exists?\n",
    "##### import os\n",
    "\n",
    "##### What is the function **within the module** that checks to see if the file exists?\n",
    "##### os.path.isfile() \n",
    "\n",
    "##### What Python module **contains** the function to remove a file?\n",
    "##### import os\n",
    "\n",
    "##### What is the function **within the module** that removes the file?\n",
    "##### os.remove(\"file\")\n",
    "\n",
    "##### What standard Python function is used to take **input** from a user prompt?\n",
    "##### variable = input(\"Please input: \")"
   ]
  }
 ],
 "metadata": {
  "interpreter": {
   "hash": "669f5abd92f1a410df15b0643b9f42360e277a412fc08ae8bc7d7911cf7e8f3d"
  },
  "kernelspec": {
   "display_name": "Python 3.10.2 64-bit",
   "language": "python",
   "name": "python3"
  },
  "language_info": {
   "name": "python",
   "version": "3.10.2"
  },
  "orig_nbformat": 4
 },
 "nbformat": 4,
 "nbformat_minor": 2
}
