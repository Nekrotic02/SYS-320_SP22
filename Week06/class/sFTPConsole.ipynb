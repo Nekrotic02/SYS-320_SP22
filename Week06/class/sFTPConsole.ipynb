{
 "cells": [
  {
   "cell_type": "code",
   "execution_count": 1,
   "metadata": {},
   "outputs": [],
   "source": [
    "import paramiko\n",
    "from getpass import getpass \n",
    "\n",
    "# Create password prompt \n",
    "\n",
    "thePass = getpass(prompt=\"Enter Password for SSH: \")\n",
    "\n",
    "# Host information \n",
    "\n",
    "host = \"184.171.149.123\"\n",
    "port = 22 \n",
    "username = \"nekrotic\"\n",
    "password = thePass \n",
    "\n",
    "try:\n",
    "\n",
    "    ssh = paramiko.SSHClient()\n",
    "    ssh.set_missing_host_key_policy(paramiko.AutoAddPolicy())\n",
    "    ssh.connect(host,port,username,password)\n",
    "\n",
    "except paramiko.AuthenticationException():\n",
    "    print(\"Authentication Failed\")"
   ]
  },
  {
   "cell_type": "code",
   "execution_count": 4,
   "metadata": {},
   "outputs": [],
   "source": [
    "# Create SFTP Connection \n",
    "sftp = ssh.open_sftp()\n",
    "\n",
    "# Get single File\n",
    "#sftp.get('/etc/hosts','hostFiles')\n",
    "\n",
    "# Get multiple files \n",
    "\n",
    "files = ['/etc/hosts','/etc/passwd','/var/log/auth.log']\n",
    "\n",
    "# Loop through files and download them \n",
    "for eachFile in files: \n",
    "\n",
    "    # Create a list from the filename \n",
    "    x = eachFile.split('/')\n",
    "\n",
    "    # -1 is used to get the last element in a list\n",
    "    filename = x[-1]\n",
    "\n",
    "    # Local path to store files \n",
    "    local_path = 'Remote_Files/' + filename\n",
    "    sftp.get(eachFile, local_path)\n",
    "\n",
    "    # Upload File \n",
    "    #sftp.put(LOCALFILE,REMOTESIDE)\n",
    "\n",
    "ssh.close()"
   ]
  }
 ],
 "metadata": {
  "interpreter": {
   "hash": "669f5abd92f1a410df15b0643b9f42360e277a412fc08ae8bc7d7911cf7e8f3d"
  },
  "kernelspec": {
   "display_name": "Python 3.10.2 64-bit",
   "language": "python",
   "name": "python3"
  },
  "language_info": {
   "codemirror_mode": {
    "name": "ipython",
    "version": 3
   },
   "file_extension": ".py",
   "mimetype": "text/x-python",
   "name": "python",
   "nbconvert_exporter": "python",
   "pygments_lexer": "ipython3",
   "version": "3.10.2"
  },
  "orig_nbformat": 4
 },
 "nbformat": 4,
 "nbformat_minor": 2
}
